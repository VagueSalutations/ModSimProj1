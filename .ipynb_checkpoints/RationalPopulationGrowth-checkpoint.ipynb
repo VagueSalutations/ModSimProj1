{
 "cells": [
  {
   "cell_type": "code",
   "execution_count": 27,
   "metadata": {},
   "outputs": [
    {
     "name": "stdout",
     "output_type": "stream",
     "text": [
      "Cell ran successfully\n"
     ]
    }
   ],
   "source": [
    "\"\"\"\n",
    "RationalPopulationGrowth.ipynb\n",
    "\n",
    "Braden Oh, Melissa Anthony\n",
    "ModSim Fall 2017, Olin College of Engineering\n",
    "\n",
    "During the course of working through the Chapter 3 ModSim notebook it \n",
    "was discovered by a number of students that the population growth data\n",
    "for the years 0AD-2015 fits a rational function flipped over the\n",
    "y-axis and shifted to the right.  The purpose of this notebook is to\n",
    "attempt to answer the question:\n",
    "\n",
    "\"Why does the population behave this way?\"\n",
    "\n",
    "Our assumption going in (09/23/2017) is that a number of time windows\n",
    "exist in recent time frames (~1700-present) that resulted in rapid\n",
    "growth spikes.  Our thought is that the aggregate graph of these time\n",
    "windows' best fit curves will sum to a rational curve.  \n",
    "\n",
    "This notebook will attempt to generate a number of graphs for varying \n",
    "time windows of relevance within the time period 0AD-2017 and aggregate\n",
    "them together, hopefully mapping events in human history to population\n",
    "spikes that will aggregate to fit a rational function.\n",
    "\n",
    "\"\"\"\n",
    "\n",
    "# Set environmental settings\n",
    "# --------------------------------------\n",
    "%matplotlib inline\n",
    "\n",
    "# Import necessary libraries\n",
    "# --------------------------------------\n",
    "from modsim import *\n",
    "from pandas import read_html\n",
    "from pandas import read_excel\n",
    "from pandas import read_csv\n",
    "\n",
    "print(\"Cell ran successfully\")"
   ]
  },
  {
   "cell_type": "markdown",
   "metadata": {},
   "source": [
    "The following cell imports the necessary data files for this simulation and test-prints various parts of those files (once imported) to verify that the import worked successfully:"
   ]
  },
  {
   "cell_type": "code",
   "execution_count": 40,
   "metadata": {},
   "outputs": [
    {
     "name": "stdout",
     "output_type": "stream",
     "text": [
      "Imports successful\n"
     ]
    },
    {
     "data": {
      "text/html": [
       "<div>\n",
       "<style>\n",
       "    .dataframe thead tr:only-child th {\n",
       "        text-align: right;\n",
       "    }\n",
       "\n",
       "    .dataframe thead th {\n",
       "        text-align: left;\n",
       "    }\n",
       "\n",
       "    .dataframe tbody tr th {\n",
       "        vertical-align: top;\n",
       "    }\n",
       "</style>\n",
       "<table border=\"1\" class=\"dataframe\">\n",
       "  <thead>\n",
       "    <tr style=\"text-align: right;\">\n",
       "      <th></th>\n",
       "      <th>Biraben (1980)</th>\n",
       "      <th>Unnamed: 1</th>\n",
       "      <th>1</th>\n",
       "      <th>252000000</th>\n",
       "    </tr>\n",
       "  </thead>\n",
       "  <tbody>\n",
       "    <tr>\n",
       "      <th>0</th>\n",
       "      <td>Biraben (1980)</td>\n",
       "      <td>NaN</td>\n",
       "      <td>1000</td>\n",
       "      <td>253000000.0</td>\n",
       "    </tr>\n",
       "    <tr>\n",
       "      <th>1</th>\n",
       "      <td>Biraben (1980)</td>\n",
       "      <td>NaN</td>\n",
       "      <td>1500</td>\n",
       "      <td>461000000.0</td>\n",
       "    </tr>\n",
       "    <tr>\n",
       "      <th>2</th>\n",
       "      <td>Biraben (1980)</td>\n",
       "      <td>NaN</td>\n",
       "      <td>1700</td>\n",
       "      <td>679000000.0</td>\n",
       "    </tr>\n",
       "    <tr>\n",
       "      <th>3</th>\n",
       "      <td>Biraben (1980)</td>\n",
       "      <td>NaN</td>\n",
       "      <td>1750</td>\n",
       "      <td>770000000.0</td>\n",
       "    </tr>\n",
       "    <tr>\n",
       "      <th>4</th>\n",
       "      <td>Biraben (1980)</td>\n",
       "      <td>NaN</td>\n",
       "      <td>1800</td>\n",
       "      <td>954000000.0</td>\n",
       "    </tr>\n",
       "  </tbody>\n",
       "</table>\n",
       "</div>"
      ],
      "text/plain": [
       "   Biraben (1980)  Unnamed: 1     1    252000000\n",
       "0  Biraben (1980)         NaN  1000  253000000.0\n",
       "1  Biraben (1980)         NaN  1500  461000000.0\n",
       "2  Biraben (1980)         NaN  1700  679000000.0\n",
       "3  Biraben (1980)         NaN  1750  770000000.0\n",
       "4  Biraben (1980)         NaN  1800  954000000.0"
      ]
     },
     "execution_count": 40,
     "metadata": {},
     "output_type": "execute_result"
    }
   ],
   "source": [
    "# Import necessary data\n",
    "# --------------------------------------\n",
    "WikiDataTable = read_html('World_population_estimates.html', header=0, index_col=0, decimal='M')\n",
    "ExcelDataTable = read_excel(io='PopData.xlsx')\n",
    "CSVDataTable = read_csv('world-population-1750-2015-and-un-projection-until-2100.csv')\n",
    "\n",
    "print(\"Imports successful\")\n",
    "\n",
    "\n",
    "# Format and test the Wikipedia data\n",
    "# --------------------------------------\n",
    "# Select the portion of the wikipedia data table that holds recent data\n",
    "WikiRecentData = WikiDataTable[2]\n",
    "\n",
    "# Change the names of each of the columns\n",
    "WikiRecentData.columns = ['census', 'prb', 'un', 'maddison', \n",
    "                  'hyde', 'tanton', 'biraben', 'mj', \n",
    "                  'thomlinson', 'durand', 'clark']\n",
    "\n",
    "# Execute the head function to verify the import worked\n",
    "WikiRecentData.head()\n",
    "\n",
    "\n",
    "# Format and test the Excel data\n",
    "# --------------------------------------\n",
    "# Requires no formatting changes, so go ahead and run the head function\n",
    "ExcelDataTable.head()\n",
    "\n",
    "\n",
    "# Format and test the CSV data\n",
    "# --------------------------------------\n",
    "# Requires no formatting changes, so go ahead and run the head function\n",
    "CSVDataTable.head()\n"
   ]
  },
  {
   "cell_type": "markdown",
   "metadata": {},
   "source": [
    "Each data is a pandas DataFrame object.  This object has a bunch of obnoxious characteristics, so here's a cheat sheet of useful ways to reference things\n",
    "\n",
    "`DataFrame.columns` outputs a pandas Index object\n",
    "\n",
    "`DataFrame.<column name>` outputs a pandas Series object, pairing items from the first column with items in the column name you wanted to access\n"
   ]
  },
  {
   "cell_type": "code",
   "execution_count": 26,
   "metadata": {},
   "outputs": [
    {
     "data": {
      "text/plain": [
       "2500"
      ]
     },
     "execution_count": 26,
     "metadata": {},
     "output_type": "execute_result"
    }
   ],
   "source": [
    "ExcelDataTable.columns\n",
    "ExcelDataTable.Year[0]"
   ]
  },
  {
   "cell_type": "code",
   "execution_count": 30,
   "metadata": {},
   "outputs": [
    {
     "data": {
      "text/html": [
       "<div>\n",
       "<style>\n",
       "    .dataframe thead tr:only-child th {\n",
       "        text-align: right;\n",
       "    }\n",
       "\n",
       "    .dataframe thead th {\n",
       "        text-align: left;\n",
       "    }\n",
       "\n",
       "    .dataframe tbody tr th {\n",
       "        vertical-align: top;\n",
       "    }\n",
       "</style>\n",
       "<table border=\"1\" class=\"dataframe\">\n",
       "  <thead>\n",
       "    <tr style=\"text-align: right;\">\n",
       "      <th></th>\n",
       "      <th>Biraben (1980)</th>\n",
       "      <th>Unnamed: 1</th>\n",
       "      <th>1</th>\n",
       "      <th>252000000</th>\n",
       "    </tr>\n",
       "  </thead>\n",
       "  <tbody>\n",
       "    <tr>\n",
       "      <th>0</th>\n",
       "      <td>Biraben (1980)</td>\n",
       "      <td>NaN</td>\n",
       "      <td>1000</td>\n",
       "      <td>253000000.0</td>\n",
       "    </tr>\n",
       "    <tr>\n",
       "      <th>1</th>\n",
       "      <td>Biraben (1980)</td>\n",
       "      <td>NaN</td>\n",
       "      <td>1500</td>\n",
       "      <td>461000000.0</td>\n",
       "    </tr>\n",
       "    <tr>\n",
       "      <th>2</th>\n",
       "      <td>Biraben (1980)</td>\n",
       "      <td>NaN</td>\n",
       "      <td>1700</td>\n",
       "      <td>679000000.0</td>\n",
       "    </tr>\n",
       "    <tr>\n",
       "      <th>3</th>\n",
       "      <td>Biraben (1980)</td>\n",
       "      <td>NaN</td>\n",
       "      <td>1750</td>\n",
       "      <td>770000000.0</td>\n",
       "    </tr>\n",
       "    <tr>\n",
       "      <th>4</th>\n",
       "      <td>Biraben (1980)</td>\n",
       "      <td>NaN</td>\n",
       "      <td>1800</td>\n",
       "      <td>954000000.0</td>\n",
       "    </tr>\n",
       "  </tbody>\n",
       "</table>\n",
       "</div>"
      ],
      "text/plain": [
       "   Biraben (1980)  Unnamed: 1     1    252000000\n",
       "0  Biraben (1980)         NaN  1000  253000000.0\n",
       "1  Biraben (1980)         NaN  1500  461000000.0\n",
       "2  Biraben (1980)         NaN  1700  679000000.0\n",
       "3  Biraben (1980)         NaN  1750  770000000.0\n",
       "4  Biraben (1980)         NaN  1800  954000000.0"
      ]
     },
     "execution_count": 30,
     "metadata": {},
     "output_type": "execute_result"
    }
   ],
   "source": []
  },
  {
   "cell_type": "code",
   "execution_count": null,
   "metadata": {
    "collapsed": true
   },
   "outputs": [],
   "source": []
  }
 ],
 "metadata": {
  "kernelspec": {
   "display_name": "Python 3",
   "language": "python",
   "name": "python3"
  },
  "language_info": {
   "codemirror_mode": {
    "name": "ipython",
    "version": 3
   },
   "file_extension": ".py",
   "mimetype": "text/x-python",
   "name": "python",
   "nbconvert_exporter": "python",
   "pygments_lexer": "ipython3",
   "version": "3.6.1"
  }
 },
 "nbformat": 4,
 "nbformat_minor": 2
}
