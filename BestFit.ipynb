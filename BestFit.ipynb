{
 "cells": [
  {
   "cell_type": "code",
   "execution_count": 12,
   "metadata": {
    "collapsed": true
   },
   "outputs": [],
   "source": [
    "import numpy\n",
    "import scipy.optimize"
   ]
  },
  {
   "cell_type": "code",
   "execution_count": 14,
   "metadata": {
    "collapsed": true
   },
   "outputs": [],
   "source": [
    "def model_lin_equation(yeardata,popdata):\n",
    "    #returns a series containing the best fit linear model of population as values and the index as time\n",
    "    def fitFunc(year,m,b):\n",
    "        return m*year+b\n",
    "    best_params, error_array=scipy.curve_fit(fitFunc,yeardata,popdata)\n",
    "    #scipy.curv_fit outputs the optimized parameters defined in the function fitFunc and an array of standard deviations from the data values.\n",
    "    for i in range(len(yeardata)):\n",
    "        year=yeardata[i]\n",
    "        popmodel[i]=fitFunc(year, bestparams[0],bestparams[1])\n",
    "        #array of population values according to best fin model gets linear fit function with the best fit parameters for a and b, stored in bestparams[]\n",
    "        model[i]=yeardata[i],popmodel[i]"
   ]
  },
  {
   "cell_type": "code",
   "execution_count": 15,
   "metadata": {
    "collapsed": true
   },
   "outputs": [],
   "source": [
    "def model_lin_equation(yeardata,popdata):\n",
    "    #returns a series containing the best fit linear model of population as values and the index as time\n",
    "    def fitFunc(year,m,b):\n",
    "        return m*year+b\n",
    "    best_params, error_array=scipy.curve_fit(fitFunc,yeardata,popdata)\n",
    "    for i in range(len(error_array)):\n",
    "        total_error+=error_array[i]\n",
    "    return total_error"
   ]
  },
  {
   "cell_type": "code",
   "execution_count": 16,
   "metadata": {
    "collapsed": true
   },
   "outputs": [],
   "source": [
    "def model_quad_error(yeardata,popdata):\n",
    "    #returns an equation in form pop=ax^2+bx+c and an array of standard deviations\n",
    "    def fitFunc(year,a,b,c):\n",
    "         return a*math.pow(year,2)+b*year+c\n",
    "    best_params, error_array=scipy.curve_fit(fitFunc,yeardata,popdata)    \n",
    "    total_error=0\n",
    "    for i in range(len(error_array)):\n",
    "        total_error+=error_array[i]\n",
    "    return total_error"
   ]
  },
  {
   "cell_type": "code",
   "execution_count": 17,
   "metadata": {
    "collapsed": true
   },
   "outputs": [],
   "source": [
    "def model_quad_equation(yeardata,popdata):\n",
    "    #returns an equation in form pop=ax^2+bx+c and an array of standard deviations\n",
    "    def fitFunc(year,a,b,c):\n",
    "         return a*math.pow(year,2)+b*year+c\n",
    "    best_params, error_array=scipy.curve_fit(fitFunc,yeardata,popdata)    \n",
    "    for i in range(len(yeardata)):\n",
    "        year=yeardata[i]\n",
    "        popmodel[i]=fitFunc(year, bestparams[0],bestparams[1], bestparams[2])\n",
    "        model[i]=yeardata[i],popmodel[i]\n",
    "    return (model)"
   ]
  },
  {
   "cell_type": "code",
   "execution_count": 24,
   "metadata": {},
   "outputs": [],
   "source": [
    "def model_poly_equation(yeardata,popdata):\n",
    "    def fitFunc(x,a,b,c,d,e,f):\n",
    "        return a*math.pow(x,5)+b*math.pow(x,4)+c*math.pow(x,3)+d*math.pow(x,2)+e*x+f\n",
    "    best_params, error_array=scipy.curve_fit(fitFunc,yeardata,popdata)    \n",
    "    for i in range(len(yeardata)):\n",
    "        year=yeardata[i]\n",
    "        popmodel[i]=fitFunc(year, bestparams[0],bestparams[1], bestparams[2], bestparams[3], bestparams[4], bestparams[5])\n",
    "        model[i]=yeardata[i],popmodel[i]\n",
    "    return (model)"
   ]
  },
  {
   "cell_type": "code",
   "execution_count": 19,
   "metadata": {
    "collapsed": true
   },
   "outputs": [],
   "source": [
    "def model_poly_error(yeardata,popdata):\n",
    "    def fitFunc(x,a,b,c,d,e,f):\n",
    "        return a*math.pow(x,5)+b*math.pow(x,4)+c*math.pow(x,3)+d*math.pow(x,2)+e*x+f\n",
    "    best_params, error_array=scipy.curve_fit(fitFunc,yeardata,popdata)    \n",
    "    total_error=0\n",
    "    for i in range(len(error_array)):\n",
    "        total_error+=error_array[i]\n",
    "    return total_error"
   ]
  },
  {
   "cell_type": "code",
   "execution_count": 20,
   "metadata": {
    "collapsed": true
   },
   "outputs": [],
   "source": [
    "def model_log_error(yeardata,popdata):\n",
    "    #returns a series containing the best fit logarithmic model of population as values and the index as time\n",
    "    def fitFunc(x,a,b,c,d):\n",
    "        return a*log(b*x+c)+d\n",
    "    best_params, error_array=scipy.curve_fit(fitFunc,yeardata,popdata)    \n",
    "    total_error=0\n",
    "    for i in range(len(error_array)):\n",
    "        total_error+=error_array[i]\n",
    "    return total_error"
   ]
  },
  {
   "cell_type": "code",
   "execution_count": 21,
   "metadata": {
    "collapsed": true
   },
   "outputs": [],
   "source": [
    "def model_log_equation(yeardata,popdata):\n",
    "    def fitFunc(x,a,b,c,d):\n",
    "        return a*log(b*x+c)+d\n",
    "    for i in range(len(yeardata)):\n",
    "        year=yeardata[i]\n",
    "        popmodel[i]=fitFunc(year, bestparams[0],bestparams[1], bestparams[2], bestparams[3])\n",
    "        model[i]=yeardata[i],popmodel[i]\n",
    "    return (model)"
   ]
  },
  {
   "cell_type": "code",
   "execution_count": 22,
   "metadata": {
    "collapsed": true
   },
   "outputs": [],
   "source": [
    "def choose_model(yeardata,popdata):\n",
    "    log=model_log_error(yeardata,popdata)\n",
    "    poly=model_poly_error(yeardata,popdata)\n",
    "    lin=model_lin_error(yeardata,popdata)\n",
    "    quad=model_quad_error(yeardata,popdata)\n",
    "    best=min(log,poly,lin,quad)\n",
    "    if best==log:\n",
    "        return model_log_equation(yeardata,popdata)\n",
    "    if best==poly:\n",
    "        return model_poly_equation(yeardata,popdata)\n",
    "    if best==lin:\n",
    "        return model_lin_equation(yeardata,popdata)\n",
    "    if best==quad:\n",
    "        return model_quad_equation(yeardata,popdata)\n"
   ]
  }
 ],
 "metadata": {
  "kernelspec": {
   "display_name": "Python 3",
   "language": "python",
   "name": "python3"
  },
  "language_info": {
   "codemirror_mode": {
    "name": "ipython",
    "version": 3
   },
   "file_extension": ".py",
   "mimetype": "text/x-python",
   "name": "python",
   "nbconvert_exporter": "python",
   "pygments_lexer": "ipython3",
   "version": "3.6.1"
  }
 },
 "nbformat": 4,
 "nbformat_minor": 2
}
