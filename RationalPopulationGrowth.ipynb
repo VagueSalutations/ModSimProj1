{
 "cells": [
  {
   "cell_type": "code",
   "execution_count": null,
   "metadata": {
    "collapsed": true
   },
   "outputs": [],
   "source": [
    "\"\"\"\n",
    "RationalPopulationGrowth.ipynb\n",
    "\n",
    "Braden Oh, Melissa Anthony\n",
    "ModSim Fall 2017, Olin College of Engineering\n",
    "\n",
    "During the course of working through the Chapter 3 ModSim notebook it \n",
    "was discovered by a number of students that the population growth data\n",
    "for the years 0AD-2015 fits a rational function flipped over the\n",
    "y-axis and shifted to the right.  The purpose of this notebook is to\n",
    "attempt to answer the question:\n",
    "\n",
    "\"Why does the population behave this way?\"\n",
    "\n",
    "Our assumption going in (09/23/2017) is that a number of time windows\n",
    "exist in recent time frames (~1700-present) that resulted in rapid\n",
    "growth spikes.  Our thought is that the aggregate graph of these time\n",
    "windows' best fit curves will sum to a rational curve.  \n",
    "\n",
    "This notebook will attempt to generate a number of graphs for varying \n",
    "time windows of relevance within the time period 0AD-2017 and aggregate\n",
    "them together, hopefully mapping events in human history to population\n",
    "spikes that will aggregate to fit a rational function.\n",
    "\n",
    "\"\"\"\n",
    "\n",
    "# Set environmental settings\n",
    "# --------------------------------------\n",
    "%matplotlib inline\n",
    "\n",
    "# Import necessary libraries\n",
    "# --------------------------------------\n",
    "from modsim import *\n",
    "from pandas import read_html\n",
    "\n",
    "\n"
   ]
  }
 ],
 "metadata": {
  "kernelspec": {
   "display_name": "Python 3",
   "language": "python",
   "name": "python3"
  },
  "language_info": {
   "codemirror_mode": {
    "name": "ipython",
    "version": 3
   },
   "file_extension": ".py",
   "mimetype": "text/x-python",
   "name": "python",
   "nbconvert_exporter": "python",
   "pygments_lexer": "ipython3",
   "version": "3.6.1"
  }
 },
 "nbformat": 4,
 "nbformat_minor": 2
}
