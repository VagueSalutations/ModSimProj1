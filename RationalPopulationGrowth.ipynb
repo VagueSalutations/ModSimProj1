{
 "cells": [
  {
   "cell_type": "code",
   "execution_count": 8,
   "metadata": {},
   "outputs": [
    {
     "name": "stdout",
     "output_type": "stream",
     "text": [
      "Cell ran successfully\n"
     ]
    }
   ],
   "source": [
    "\"\"\"\n",
    "RationalPopulationGrowth.ipynb\n",
    "\n",
    "Braden Oh, Melissa Anthony\n",
    "ModSim Fall 2017, Olin College of Engineering\n",
    "\n",
    "During the course of working through the Chapter 3 ModSim notebook it \n",
    "was discovered by a number of students that the population growth data\n",
    "for the years 0AD-2015 fits a rational function flipped over the\n",
    "y-axis and shifted to the right.  The purpose of this notebook is to\n",
    "attempt to answer the question:\n",
    "\n",
    "\"Why does the population behave this way?\"\n",
    "\n",
    "Our assumption going in (09/23/2017) is that a number of time windows\n",
    "exist in recent time frames (~1700-present) that resulted in rapid\n",
    "growth spikes.  Our thought is that the aggregate graph of these time\n",
    "windows' best fit curves will sum to a rational curve.  \n",
    "\n",
    "This notebook will attempt to generate a number of graphs for varying \n",
    "time windows of relevance within the time period 0AD-2017 and aggregate\n",
    "them together, hopefully mapping events in human history to population\n",
    "spikes that will aggregate to fit a rational function.\n",
    "\n",
    "\"\"\"\n",
    "\n",
    "# Set environmental settings\n",
    "# --------------------------------------\n",
    "%matplotlib inline\n",
    "\n",
    "# Import necessary libraries\n",
    "# --------------------------------------\n",
    "from modsim import *\n",
    "from pandas import read_html\n",
    "from pandas import read_excel\n",
    "from pandas import read_csv\n",
    "\n",
    "print(\"Cell ran successfully\")"
   ]
  },
  {
   "cell_type": "markdown",
   "metadata": {},
   "source": [
    "The following cell imports the necessary data files for this simulation and test-prints various parts of those files (once imported) to verify that the import worked successfully:"
   ]
  },
  {
   "cell_type": "code",
   "execution_count": 9,
   "metadata": {},
   "outputs": [
    {
     "name": "stdout",
     "output_type": "stream",
     "text": [
      "Imports successful\n"
     ]
    },
    {
     "data": {
      "text/html": [
       "<div>\n",
       "<style>\n",
       "    .dataframe thead tr:only-child th {\n",
       "        text-align: right;\n",
       "    }\n",
       "\n",
       "    .dataframe thead th {\n",
       "        text-align: left;\n",
       "    }\n",
       "\n",
       "    .dataframe tbody tr th {\n",
       "        vertical-align: top;\n",
       "    }\n",
       "</style>\n",
       "<table border=\"1\" class=\"dataframe\">\n",
       "  <thead>\n",
       "    <tr style=\"text-align: right;\">\n",
       "      <th></th>\n",
       "      <th>Source</th>\n",
       "      <th>Pop</th>\n",
       "    </tr>\n",
       "    <tr>\n",
       "      <th>Year</th>\n",
       "      <th></th>\n",
       "      <th></th>\n",
       "    </tr>\n",
       "  </thead>\n",
       "  <tbody>\n",
       "    <tr>\n",
       "      <th>1</th>\n",
       "      <td>Biraben (1980)</td>\n",
       "      <td>252000000.0</td>\n",
       "    </tr>\n",
       "    <tr>\n",
       "      <th>1</th>\n",
       "      <td>Clark (1967)</td>\n",
       "      <td>256000000.0</td>\n",
       "    </tr>\n",
       "    <tr>\n",
       "      <th>1</th>\n",
       "      <td>Durand (1974), lower</td>\n",
       "      <td>270000000.0</td>\n",
       "    </tr>\n",
       "    <tr>\n",
       "      <th>1</th>\n",
       "      <td>Durand (1974), upper</td>\n",
       "      <td>330000000.0</td>\n",
       "    </tr>\n",
       "    <tr>\n",
       "      <th>1</th>\n",
       "      <td>Grigg (1987)</td>\n",
       "      <td>256000000.0</td>\n",
       "    </tr>\n",
       "  </tbody>\n",
       "</table>\n",
       "</div>"
      ],
      "text/plain": [
       "                    Source          Pop\n",
       "Year                                   \n",
       "1           Biraben (1980)  252000000.0\n",
       "1             Clark (1967)  256000000.0\n",
       "1     Durand (1974), lower  270000000.0\n",
       "1     Durand (1974), upper  330000000.0\n",
       "1             Grigg (1987)  256000000.0"
      ]
     },
     "execution_count": 9,
     "metadata": {},
     "output_type": "execute_result"
    }
   ],
   "source": [
    "# Import necessary data\n",
    "# --------------------------------------\n",
    "WikiDataTable = read_html('World_population_estimates.html', header=0, index_col=0, decimal='M')\n",
    "ExcelDataTable = read_excel(io='PopData.xlsx', header=0, index_col=0)\n",
    "CSVDataTable = read_csv('populationData.csv', header=0, index_col=1)\n",
    "\n",
    "print(\"Imports successful\")\n",
    "\n",
    "\n",
    "# Format and test the Wikipedia data\n",
    "# --------------------------------------\n",
    "# Select the portion of the wikipedia data table that holds recent data\n",
    "WikiRecentData = WikiDataTable[2]\n",
    "\n",
    "# Change the names of each of the columns\n",
    "WikiRecentData.columns = ['census', 'prb', 'un', 'maddison', \n",
    "                  'hyde', 'tanton', 'biraben', 'mj', \n",
    "                  'thomlinson', 'durand', 'clark']\n",
    "\n",
    "# Execute the head function to verify the import worked\n",
    "WikiRecentData.head()\n",
    "\n",
    "\n",
    "# Format and test the Excel data\n",
    "# --------------------------------------\n",
    "# Requires no formatting changes, so go ahead and run the head function\n",
    "ExcelDataTable.head()\n",
    "\n",
    "\n",
    "# Format and test the CSV data\n",
    "# --------------------------------------\n",
    "# Requires no formatting changes, so go ahead and run the head function\n",
    "CSVDataTable.head()"
   ]
  },
  {
   "cell_type": "markdown",
   "metadata": {},
   "source": [
    "Each data is a pandas DataFrame object.  This object has a bunch of obnoxious characteristics, so here's a cheat sheet of useful ways to reference things\n",
    "\n",
    "`DataFrame.columns` outputs a pandas Index object\n",
    "\n",
    "`DataFrame.<column name>` outputs a pandas Series object, pairing items from the index column with items in the column name you wanted to access\n",
    "\n",
    "`DataFrame.index`, when using years as the index, outputs a pandas Int64Index object"
   ]
  },
  {
   "cell_type": "code",
   "execution_count": 10,
   "metadata": {},
   "outputs": [
    {
     "data": {
      "text/plain": [
       "1    252000000.0\n",
       "1    256000000.0\n",
       "1    270000000.0\n",
       "1    330000000.0\n",
       "1    256000000.0\n",
       "1    188239090.4\n",
       "1    300000000.0\n",
       "1    252000000.0\n",
       "1    230820000.0\n",
       "1    170000000.0\n",
       "1    170000000.0\n",
       "1    188239090.0\n",
       "1    200000000.0\n",
       "Name: Pop, dtype: float64"
      ]
     },
     "execution_count": 10,
     "metadata": {},
     "output_type": "execute_result"
    }
   ],
   "source": [
    "popSeries = CSVDataTable.Pop  # popSeries is a pandas Series object\n",
    "popSeries.values              # this is an array of just the values of the series\n",
    "popSeries[1]                  # this accesses all values of popSeries that correspond to an index value of (year) 1"
   ]
  },
  {
   "cell_type": "code",
   "execution_count": 129,
   "metadata": {},
   "outputs": [
    {
     "data": {
      "image/png": "[encoded data removed]",
      "text/plain": [
       "<matplotlib.figure.Figure at 0x1d2754b1f28>"
      ]
     },
     "metadata": {},
     "output_type": "display_data"
    }
   ],
   "source": [
    "def plot_data(data, labelin='', xlabelin='', ylabelin='', shapein='.', colorin='darkblue'):\n",
    "\n",
    "    scaled_data = data / 1e9\n",
    "    plot(scaled_data, shapein, color=colorin, label=labelin)\n",
    "        \n",
    "    decorate(xlabel=xlabelin,\n",
    "             ylabel=ylabelin)\n",
    "    \n",
    "newfig()\n",
    "plot_data(CSVDataTable.Pop, 'Our World in Data', 'Year', 'World population (billion)')"
   ]
  },
  {
   "cell_type": "code",
   "execution_count": 74,
   "metadata": {},
   "outputs": [
    {
     "name": "stdout",
     "output_type": "stream",
     "text": [
      "[1, 100, 200, 300, 400, 500, 600, 700, 800, 900, 1000, 1100, 1200, 1300, 1400, 1500, 1600, 1700, 1750, 1800, 1850, 1900, 1901, 1902, 1903, 1904, 1905, 1906, 1907, 1908, 1909, 1910, 1911, 1912, 1913, 1914, 1915, 1916, 1917, 1918, 1919, 1920, 1921, 1922, 1923, 1924, 1925, 1926, 1927, 1928, 1929, 1930, 1931, 1932, 1933, 1934, 1935, 1936, 1937, 1938, 1939, 1940, 1941, 1942, 1943, 1944, 1945, 1946, 1947, 1948, 1949, 1950, 1951, 1952, 1953, 1954, 1955, 1956, 1957, 1958, 1959, 1960, 1961, 1962, 1963, 1964, 1965, 1966, 1967, 1968, 1969, 1970, 1971, 1972, 1973, 1974, 1975, 1976, 1977, 1978, 1979, 1980, 1981, 1982, 1983, 1984, 1985, 1986, 1987, 1988, 1989, 1990, 1991, 1992, 1993, 1994, 1995, 1996, 1997, 1998, 1999, 2000, 2001, 2002, 2003, 2004, 2005, 2006, 2007, 2008, 2009, 2010, 2011, 2012, 2013, 2014]\n"
     ]
    },
    {
     "data": {
      "text/plain": [
       "[(1, 100),\n",
       " (100, 200),\n",
       " (200, 300),\n",
       " (300, 400),\n",
       " (400, 500),\n",
       " (500, 600),\n",
       " (600, 700),\n",
       " (700, 800),\n",
       " (800, 900),\n",
       " (900, 1000),\n",
       " (1000, 1100),\n",
       " (1100, 1200),\n",
       " (1200, 1300),\n",
       " (1300, 1400),\n",
       " (1400, 1500),\n",
       " (1500, 1600),\n",
       " (1600, 1700),\n",
       " (1700, 1750),\n",
       " (1750, 1800),\n",
       " (1800, 1850),\n",
       " (1850, 1900),\n",
       " (1900, 1920),\n",
       " (1920, 1940),\n",
       " (1940, 1960),\n",
       " (1960, 1980),\n",
       " (1980, 2000),\n",
       " (2000, 2014)]"
      ]
     },
     "execution_count": 74,
     "metadata": {},
     "output_type": "execute_result"
    }
   ],
   "source": [
    "def generate_time_windows(table, num_periods):\n",
    "    \n",
    "    # The years with available data are stored in table.index\n",
    "    # There are duplicate years in the index so we call set() to strip out these duplicates\n",
    "    available_years = list(set(table.index))\n",
    "    available_years.sort()\n",
    "    print(available_years)\n",
    "    \n",
    "    # The nominal time window (period) is the range of the data divided by the number of desired periods\n",
    "    # NOTE: THIS ASSUMES A SORTED DATA SET\n",
    "    nominal_period = round((available_years[len(available_years)-1] - available_years[0]) / num_periods)\n",
    "    \n",
    "    # This nominal period won't line up in most circumstances so we need to set up windows to the next highest available year:\n",
    "    \n",
    "    time_windows = []       # Prepare to collect a list of tuples\n",
    "    t = available_years[0]  # Determine the first year to start on\n",
    "    \n",
    "    while (t < (available_years[len(available_years)-1]-nominal_period)):   # Keep running while t is less than the max year\n",
    "        \n",
    "        tfinal = t + nominal_period  # Calculate the nominal time window\n",
    "        \n",
    "        while int(tfinal) not in available_years:  # While tfinal (nominal) is not in the available data set,\n",
    "            tfinal += 1                    # add one to tfinal and check again\n",
    "            \n",
    "        time_window = (int(t), int(tfinal))           # Establish a tuple recording t and tfinal\n",
    "        time_windows.append(time_window)    # Append this tuple to the time_windows array\n",
    "        \n",
    "        t = tfinal                  # Update the value of t and run the loop again\n",
    "        \n",
    "        # If the last time period is reached...\n",
    "        if ((t + nominal_period) > available_years[len(available_years)-1]):\n",
    "            time_window = (int(t), int(available_years[len(available_years)-1]))\n",
    "            time_windows.append(time_window)\n",
    "        \n",
    "    return time_windows    # Return a final set of time windows marked by available years\n",
    "\n",
    "#-----------------------------------------------------------------------------------------------------        \n",
    "\n",
    "windows = generate_time_windows(CSVDataTable, 100)\n",
    "#windows"
   ]
  },
  {
   "cell_type": "code",
   "execution_count": 170,
   "metadata": {},
   "outputs": [
    {
     "name": "stdout",
     "output_type": "stream",
     "text": [
      "mp\n",
      "50.5     -4.605743e+05\n",
      "150.0     2.286331e+05\n",
      "250.0    -1.269374e+05\n",
      "350.0     2.395519e+04\n",
      "450.0     1.013335e+04\n",
      "550.0     1.426103e+05\n",
      "650.0     2.675751e+04\n",
      "750.0     1.310175e+05\n",
      "850.0     2.550654e+05\n",
      "950.0     1.838115e+05\n",
      "1050.0    5.875734e+05\n",
      "1150.0    5.639022e+05\n",
      "1250.0   -1.173227e+05\n",
      "1350.0   -1.005148e+05\n",
      "1450.0    8.075855e+05\n",
      "1550.0    8.717612e+05\n",
      "1650.0    6.072507e+05\n",
      "1725.0    3.022512e+06\n",
      "1775.0    3.609647e+06\n",
      "1825.0    5.635377e+06\n",
      "1875.0    8.419223e+06\n",
      "1910.0    1.251388e+07\n",
      "1930.0    2.002009e+07\n",
      "1950.0    3.638847e+07\n",
      "1970.0    7.132748e+07\n",
      "1990.0    8.312926e+07\n",
      "2007.0    8.316390e+07\n",
      "Name: dt, dtype: float64\n"
     ]
    },
    {
     "data": {
      "image/png": "[encoded data removed]",
      "text/plain": [
       "<matplotlib.figure.Figure at 0x1d275df7ac8>"
      ]
     },
     "metadata": {},
     "output_type": "display_data"
    }
   ],
   "source": [
    "def calculate_pop_derivatives(table, windows):\n",
    "    \n",
    "    window_dts = []   # Prepare to hold a list of tuples\n",
    "    \n",
    "    # For each (start, end) tuple in the windows array...\n",
    "    for window in windows:\n",
    "        p0 = float(table.Pop[window[0]].mean())    # Take intial population as the mean of the first year's data set\n",
    "        pf = float(table.Pop[window[1]].mean())    # Take final population as the mean of the second year's data set\n",
    "\n",
    "        dt = float((pf-p0)/(float(window[1])-float(window[0])))  # Take the average derivative as the slope of the endpoints\n",
    "\n",
    "        window_dt = (float(window[0]), float(window[1]), dt)  # Store the derivative in a tuple (t0, tf, dt)\n",
    "        window_dts.append(window_dt)          # and store that tuple in the top level array\n",
    "\n",
    "    # Using lists of tuples is going to be messy in the next section, so let's make a DataFrame object:\n",
    "    t0Array = []\n",
    "    tfArray = []\n",
    "    dtArray = []\n",
    "    mpArray = []\n",
    "    for window in window_dts:  # Start by making lists for each column of the DataFrame\n",
    "        t0Array.append(window[0])\n",
    "        tfArray.append(window[1])\n",
    "        dtArray.append(window[2])\n",
    "        mpArray.append((window[0]+window[1])/2)\n",
    "        \n",
    "    dtDataFrame = pd.DataFrame({'t0':t0Array,'tf':tfArray,'dt':dtArray, 'mp':mpArray})  # Initialize the DataFrame itself\n",
    "    dtDataFrame = dtDataFrame.set_index('mp')  # Set the indexes to be the midpoints of each time window\n",
    "    \n",
    "    return dtDataFrame\n",
    "\n",
    "#-----------------------------------------------------------------------------------------------------        \n",
    "\n",
    "derivativeSet = calculate_pop_derivatives(CSVDataTable, windows)\n",
    "\n",
    "newfig()\n",
    "plot_data(derivativeSet.dt, \"Calculated Derivatives\", \"Year\", \"Rate of growth (billion)\",'-')\n"
   ]
  },
  {
   "cell_type": "code",
   "execution_count": 182,
   "metadata": {},
   "outputs": [
    {
     "data": {
      "image/png": "[encoded data removed]",
      "text/plain": [
       "<matplotlib.figure.Figure at 0x1d27717f940>"
      ]
     },
     "metadata": {},
     "output_type": "display_data"
    }
   ],
   "source": [
    "def calculate_derivative_growth(derivativeSeries):\n",
    "    \n",
    "    dts = derivativeSeries.values   # Extract a list of derivatives from the series\n",
    "    yrs = list(derivativeSeries.index)   # Extract a list of years from the series\n",
    "    yrs.pop(0)\n",
    "\n",
    "    change_array = []           # Prepare to collect a list of change percentages\n",
    "    \n",
    "    for i in range(0, len(dts)-1):\n",
    "        percent_change = dts[i+1] / dts[i]  * 100    # Calculate the percent change from dts[i] to dts[i+1]\n",
    "        change_array.append(percent_change)          # Store that percent change in the change_array\n",
    "    \n",
    "    dtDataFrame = pd.DataFrame({'Year':yrs,'percent_change':change_array})  # Initialize a DataFrame object\n",
    "    dtDataFrame = dtDataFrame.set_index('Year')  # Set the indexes to be the midpoints of each time window\n",
    "    \n",
    "    return dtDataFrame\n",
    "    \n",
    "#-----------------------------------------------------------------------------------------------------        \n",
    "\n",
    "derivativePercentChanges = calculate_derivative_growth(derivativeSet.dt)\n",
    "newfig()\n",
    "plot_data(derivativePercentChanges*1e9, \"Rate of derivative change\", \"Year\", \"Rate of derivative change (percent)\",'o')"
   ]
  },
  {
   "cell_type": "code",
   "execution_count": 183,
   "metadata": {},
   "outputs": [
    {
     "name": "stdout",
     "output_type": "stream",
     "text": [
      "        percent_change\n",
      "Year                  \n",
      "150.0       -49.640878\n",
      "250.0       -55.520121\n",
      "350.0       -18.871659\n",
      "450.0        42.301280\n",
      "550.0      1407.335875\n",
      "650.0        18.762676\n",
      "750.0       489.647621\n",
      "850.0       194.680354\n",
      "950.0        72.064467\n",
      "1050.0      319.660851\n",
      "1150.0       95.971359\n",
      "1250.0      -20.805500\n",
      "1350.0       85.673823\n",
      "1450.0     -803.449208\n",
      "1550.0      107.946613\n",
      "1650.0       69.657914\n",
      "1725.0      497.737099\n",
      "1775.0      119.425402\n",
      "1825.0      156.119892\n",
      "1875.0      149.399466\n",
      "1910.0      148.634580\n",
      "1930.0      159.983144\n",
      "1950.0      181.759744\n",
      "1970.0      196.016704\n",
      "1990.0      116.545909\n",
      "2007.0      100.041674\n"
     ]
    }
   ],
   "source": [
    "print(derivativePercentChanges)"
   ]
  },
  {
   "cell_type": "code",
   "execution_count": null,
   "metadata": {
    "collapsed": true
   },
   "outputs": [],
   "source": []
  },
  {
   "cell_type": "code",
   "execution_count": null,
   "metadata": {
    "collapsed": true
   },
   "outputs": [],
   "source": [
    "# SANDBOX - THIS ISN'T CODE THAT'S PART OF THE FINAL PROJECT!\n",
    "\n",
    "def plot_estimates(table, source):\n",
    "    \n",
    "    if source == \"CSV\":\n",
    "        data = table.Pop / 1e9\n",
    "        plot(data, ':', color='darkblue', label='Our World in Data')\n",
    "    \n",
    "    \"\"\"\n",
    "    elif source == \"Wiki\":\n",
    "        table2 = table[2]\n",
    "        table2.columns = ['census', 'prb', 'un', 'maddison', \n",
    "                  'hyde', 'tanton', 'biraben', 'mj', \n",
    "                  'thomlinson', 'durand', 'clark']\n",
    "        \n",
    "        data = table2.census / 1e9\n",
    "        plot(table2.mj, 'mo', label='Census')\n",
    "        data = table2.prb / 1e9\n",
    "        plot(table2.prb, 'ro', label='PRB')\n",
    "        data = table2.un / 1e9\n",
    "        plot(table2.un, 'co', label='UN')\n",
    "        data = table2.hyde / 1e9\n",
    "        plot(table2.hyde, 'yo', label='HYDE')\n",
    "        data = table2.tanton / 1e9\n",
    "        plot(table2.tanton, 'go', label='Tanton')\n",
    "        data = table2.biraben / 1e9\n",
    "        plot(table2.biraben, 'bo', label='Biraben')\n",
    "        data = table2.mj / 1e9\n",
    "        plot(table2.mj, 'mo', label='McEvedy & Jones')\n",
    "        \n",
    "    \"\"\"\n",
    "        \n",
    "    decorate(xlabel='Year',\n",
    "             ylabel='World population (billion)')\n",
    "    \n",
    "newfig()\n",
    "plot_estimates(CSVDataTable, \"CSV\")\n",
    "#plot_estimates(WikiDataTable, \"Wiki\")"
   ]
  }
 ],
 "metadata": {
  "kernelspec": {
   "display_name": "Python 3",
   "language": "python",
   "name": "python3"
  },
  "language_info": {
   "codemirror_mode": {
    "name": "ipython",
    "version": 3
   },
   "file_extension": ".py",
   "mimetype": "text/x-python",
   "name": "python",
   "nbconvert_exporter": "python",
   "pygments_lexer": "ipython3",
   "version": "3.6.1"
  }
 },
 "nbformat": 4,
 "nbformat_minor": 2
}
